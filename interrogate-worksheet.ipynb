{
 "cells": [
  {
   "cell_type": "markdown",
   "id": "65de5f97-3d12-4e02-b038-89a4070ca9ce",
   "metadata": {},
   "source": [
    "# Recursive extractor worksheet"
   ]
  },
  {
   "cell_type": "markdown",
   "id": "678247ef-1484-4be3-a433-fabbda43237c",
   "metadata": {},
   "source": [
    "### Installing packages"
   ]
  },
  {
   "cell_type": "code",
   "execution_count": null,
   "id": "7f5522da-ee79-48f6-b787-a422c506ac13",
   "metadata": {},
   "outputs": [],
   "source": [
    "import sys\n",
    "!{sys.executable} -m pip install itables"
   ]
  },
  {
   "cell_type": "markdown",
   "id": "f18aa4f9-3753-4575-ac47-4342e47759f9",
   "metadata": {},
   "source": [
    "### Get current working directory"
   ]
  },
  {
   "cell_type": "code",
   "execution_count": null,
   "id": "8e3bcdf0-260b-48d2-8b69-ae8b204da61e",
   "metadata": {},
   "outputs": [],
   "source": [
    "import os\n",
    "print(os.getcwd())"
   ]
  },
  {
   "cell_type": "markdown",
   "id": "1acf85b6-4ca0-485a-af69-e0fbbf0dbbb2",
   "metadata": {},
   "source": [
    "### Load data"
   ]
  },
  {
   "cell_type": "code",
   "execution_count": null,
   "id": "ed0be721-6c74-462b-a562-046c7484d864",
   "metadata": {},
   "outputs": [],
   "source": [
    "#  Load json data\n",
    "import json\n",
    "with open('results-1.json', 'rb') as f:\n",
    "    d = json.load(f)\n",
    "print(f'Total number of files = {len(d)}')\n",
    "\n",
    "#  Get unique actions\n",
    "actions = []\n",
    "for i in d:\n",
    "    if i.get('action') not in actions:\n",
    "        actions.append(i.get('action'))\n",
    "print(f'Distinct actions = {actions}')\n",
    "\n",
    "#  Get flattened files\n",
    "flattened_files = [i for i in d if i.get('action') in ('copy', 'continue')]\n",
    "print(f'Flattened files = {len(flattened_files)}/{len(d)}')\n",
    "\n",
    "#  Get binary files\n",
    "binary_files = [ i for i in flattened_files if i.get('mime-encoding') == 'binary' ]\n",
    "print(f'Binary files = {len(binary_files)}')\n",
    "\n",
    "#  Get non-binary files\n",
    "non_binary_files = [ i for i in flattened_files if i.get('mime-encoding') != 'binary' ]\n",
    "print(f'Non-Binary files = {len(non_binary_files)}')\n",
    "\n",
    "if len(flattened_files) == len(binary_files) + len(non_binary_files):\n",
    "    print(f'All files accounted for')"
   ]
  },
  {
   "cell_type": "markdown",
   "id": "0aebd965-0a32-4fef-a2cd-9188bac9c538",
   "metadata": {
    "jp-MarkdownHeadingCollapsed": true
   },
   "source": [
    "### Querying MIME types"
   ]
  },
  {
   "cell_type": "code",
   "execution_count": null,
   "id": "9028a627-749b-4c5f-ba2b-f0d0f104666c",
   "metadata": {},
   "outputs": [],
   "source": [
    "mime_types = []\n",
    "for i in d:\n",
    "    if i.get('mime-type') not in mime_types:\n",
    "        mime_types.append(i.get('mime-type'))\n",
    "print(f'Total distinct MIME types = {len(mime_types)}')\n",
    "\n",
    "flattened_mime_types = []\n",
    "for i in flattened_files:\n",
    "    if i.get('mime-type') not in flattened_mime_types:\n",
    "        flattened_mime_types.append(i.get('mime-type'))\n",
    "print(f'Flattened files total distinct MIME types = {len(flattened_mime_types)}')\n",
    "\n",
    "print(f'MIME types not present after flattened files = {[i for i in mime_types if i not in flattened_mime_types]}')\n",
    "\n",
    "unique_mime_encodings = (i.get('mime-encoding') for i in d)\n",
    "print(f'Distinct encodings {set(unique_mime_encodings)}')"
   ]
  },
  {
   "cell_type": "code",
   "execution_count": null,
   "id": "d98e34da-c995-414a-be29-df6e4b29bda9",
   "metadata": {},
   "outputs": [],
   "source": [
    "mime_type_distinct_totals = {}\n",
    "for i in flattened_files:\n",
    "    mime_type_distinct_totals.update({i.get('mime-type'): mime_type_distinct_totals.get(i.get('mime-type'), 0) + 1})\n",
    "print(f'{len(flattened_files)} =? {sum(mime_type_distinct_totals.values())}')\n",
    "mime_type_distinct_totals"
   ]
  },
  {
   "cell_type": "code",
   "execution_count": null,
   "id": "58abf2d2-0b03-4ad5-8ff1-06745336d894",
   "metadata": {},
   "outputs": [],
   "source": [
    "binary_mime_type_distinct_totals = {}\n",
    "for i in binary_files:\n",
    "    binary_mime_type_distinct_totals.update({i.get('mime-type'): binary_mime_type_distinct_totals.get(i.get('mime-type'), 0) + 1})\n",
    "print(f'{len(binary_files)} =? {sum(binary_mime_type_distinct_totals.values())}')\n",
    "binary_mime_type_distinct_totals"
   ]
  },
  {
   "cell_type": "code",
   "execution_count": null,
   "id": "b2cdcab6-b827-4e74-aab4-975f6faa1291",
   "metadata": {},
   "outputs": [],
   "source": [
    "testq = [i for i in d if i.get('mime-encoding') == 'binary' and i.get('mime-type') == 'application/octet-stream']\n",
    "testq"
   ]
  },
  {
   "cell_type": "markdown",
   "id": "31cbade4-9856-438d-be49-5445d9318159",
   "metadata": {},
   "source": [
    "### Munging data"
   ]
  },
  {
   "cell_type": "markdown",
   "id": "eade1aea-ccae-428d-9613-b03fe892d490",
   "metadata": {},
   "source": [
    "#### Organise data by mime-type"
   ]
  },
  {
   "cell_type": "code",
   "execution_count": null,
   "id": "ff7b073e-1b8f-4ba8-90ff-47743ac0c6b1",
   "metadata": {
    "scrolled": true
   },
   "outputs": [],
   "source": [
    "\"\"\"\n",
    "#  This is slow\n",
    "for i in flattened_files:\n",
    "    r.update({i.get('mime-type'): r.get(i.get('mime-type', [])) + [i]})\n",
    "\"\"\"\n",
    "\n",
    "results_by_mime_type = {}  #  dict()\n",
    "for i in flattened_files:\n",
    "    if not results_by_mime_type.get(i.get('mime-type')):\n",
    "        results_by_mime_type[i.get('mime-type')] = [i]\n",
    "    else:\n",
    "        results_by_mime_type.get(i.get('mime-type')).append(i)\n",
    "print(f'Distinct mime-types = {len(results_by_mime_type)}')\n",
    "\n",
    "mime_types_count_total = 0\n",
    "\n",
    "for mime_type in results_by_mime_type:\n",
    "    print(f'\"{mime_type}\": {len(results_by_mime_type.get(mime_type))} {results_by_mime_type.get(mime_type)[0][\"mime-encoding\"]}')\n",
    "    mime_types_count_total += len(results_by_mime_type.get(mime_type))\n",
    "\n",
    "print(f'{len(flattened_files)} =? {mime_types_count_total}')"
   ]
  },
  {
   "cell_type": "markdown",
   "id": "af0169e9-b00e-44fd-a17b-2e8948ec36a7",
   "metadata": {},
   "source": [
    "#### Whitelist of mime-types to ignore"
   ]
  },
  {
   "cell_type": "code",
   "execution_count": null,
   "id": "8fe9c501-1094-40c1-961c-a03a64f885ad",
   "metadata": {},
   "outputs": [],
   "source": [
    "mime_type_whitelist = [\n",
    "    #'application/gzip',\n",
    "    'application/octet-stream',\n",
    "    'application/pdf',\n",
    "    'application/pgp-keys',\n",
    "    #'application/vnd.microsoft.portable-executable',\n",
    "    'application/vnd.ms-htmlhelp',\n",
    "    'application/x-adobe-aco',\n",
    "    #'application/x-apple-diskimage',\n",
    "    'application/x-apple-rsr',\n",
    "    #'application/x-bytecode.python',\n",
    "    'application/x-coff',\n",
    "    'application/x-dvi',\n",
    "    #'application/x-executable',\n",
    "    #\"application/x-executable, can't read elf program headers at 4294967088\",\n",
    "    'application/x-gettext-translation',\n",
    "    'application/x-git',\n",
    "    'application/x-ima',\n",
    "    #'application/x-iso9660-image',\n",
    "    'application/x-java-applet',\n",
    "    #'application/x-lzip',\n",
    "    #'application/x-ms-pdb',\n",
    "    #'application/x-object',\n",
    "    #'application/x-ole-storage',\n",
    "    #'application/x-pie-executable',\n",
    "    #'application/x-raw-disk-image',\n",
    "    #'application/x-sharedlib',\n",
    "    'application/x-std-dictionary',\n",
    "    #'application/x-tar',\n",
    "    #'application/x-xz',\n",
    "    #'application/zip',\n",
    "    'audio/basic',\n",
    "    'audio/x-aiff',\n",
    "    'audio/x-unknown',\n",
    "    'audio/x-wav',\n",
    "    'image/bmp',\n",
    "    'image/gif',\n",
    "    'image/jpeg',\n",
    "    'image/png',\n",
    "    'image/tiff',\n",
    "    'image/vnd.adobe.photoshop',\n",
    "    'image/vnd.microsoft.icon',\n",
    "    'image/webp',\n",
    "    'image/x-exr',\n",
    "    'image/x-icns',\n",
    "    'image/x-portable-bitmap',\n",
    "    'image/x-portable-greymap',\n",
    "    'image/x-portable-pixmap',\n",
    "    'inode/symlink',\n",
    "    'inode/x-empty',\n",
    "    'text/plain',\n",
    "    'text/x-shellscript'\n",
    "    ]\n",
    "\n",
    "files_for_inspection = [i for i in binary_files if i.get('mime-type') not in mime_type_whitelist]"
   ]
  },
  {
   "cell_type": "markdown",
   "id": "d2f242a0-1a66-404d-92de-e9993d6494c0",
   "metadata": {
    "jp-MarkdownHeadingCollapsed": true
   },
   "source": [
    "#### Visualise data"
   ]
  },
  {
   "cell_type": "code",
   "execution_count": null,
   "id": "c17a681d-add1-42ad-b66a-c1a9965fb51b",
   "metadata": {
    "scrolled": true
   },
   "outputs": [],
   "source": [
    "from IPython.display import display\n",
    "import pandas as pd\n",
    "\n",
    "pd.set_option('display.max_rows', 500)\n",
    "pd.set_option('display.max_columns', 500)\n",
    "pd.set_option('display.width', 1000)\n",
    "pd.set_option('display.max_colwidth', 1000)\n",
    "\n",
    "df = pd.DataFrame(data=files_for_inspection)\n",
    "#display(df.loc[:, ~df.columns.isin(['mime-encoding', 'action'])])\n",
    "df.loc[:, ~df.columns.isin(['mime-encoding', 'action'])]"
   ]
  },
  {
   "cell_type": "markdown",
   "id": "790665d6-0178-48ca-8d6d-fa718c37bc31",
   "metadata": {},
   "source": [
    "#### Write to `html` [results.html](/files/results.html)"
   ]
  },
  {
   "cell_type": "code",
   "execution_count": null,
   "id": "56c3f0f7-bec1-4bd5-8c92-68b1e20b0d78",
   "metadata": {},
   "outputs": [],
   "source": [
    "import pandas as pd\n",
    "df = pd.DataFrame(data=files_for_inspection)\n",
    "s = \"\"\"\n",
    "<!DOCTYPE html>\n",
    "<html>\n",
    "<head>\n",
    "<meta content=\"text/html;charset=utf-8\" http-equiv=\"Content-Type\">\n",
    "<meta content=\"utf-8\" http-equiv=\"encoding\">\n",
    "<title>Verification results</title>\n",
    "<script>\n",
    "document.addEventListener('DOMContentLoaded', function () {\n",
    "  const table = document.getElementById('info-table');\n",
    "  const headers = table.querySelectorAll('th');\n",
    "  const tableBody = table.querySelector('tbody');\n",
    "  const rows = tableBody.querySelectorAll('tr');\n",
    "\n",
    "  // Track sort directions\n",
    "  const directions = Array.from(headers).map(function (header) {\n",
    "    return '';\n",
    "  });\n",
    "\n",
    "  // Transform the content of given cell in given column\n",
    "  const transform = function (index, content) {\n",
    "    // Get the data type of column\n",
    "    const type = headers[index].getAttribute('data-type');\n",
    "    switch (type) {\n",
    "      case 'number':\n",
    "        return parseFloat(content);\n",
    "      case 'string':\n",
    "      default:\n",
    "        return content;\n",
    "    }\n",
    "  };\n",
    "\n",
    "  const sortColumn = function (index) {\n",
    "    // Get the current direction\n",
    "    const direction = directions[index] || 'asc';\n",
    "\n",
    "    // A factor based on the direction\n",
    "    const multiplier = direction === 'asc' ? 1 : -1;\n",
    "\n",
    "    const newRows = Array.from(rows);\n",
    "\n",
    "    newRows.sort(function (rowA, rowB) {\n",
    "      const cellA = rowA.querySelectorAll('td')[index].innerHTML;\n",
    "      const cellB = rowB.querySelectorAll('td')[index].innerHTML;\n",
    "\n",
    "      const a = transform(index, cellA);\n",
    "      const b = transform(index, cellB);\n",
    "\n",
    "      switch (true) {\n",
    "        case a > b:\n",
    "          return 1 * multiplier;\n",
    "        case a < b:\n",
    "          return -1 * multiplier;\n",
    "        case a === b:\n",
    "          return 0;\n",
    "      }\n",
    "    });\n",
    "\n",
    "    // Remove old rows\n",
    "    [].forEach.call(rows, function (row) {\n",
    "      tableBody.removeChild(row);\n",
    "    });\n",
    "\n",
    "    // Reverse the direction\n",
    "    directions[index] = direction === 'asc' ? 'desc' : 'asc';\n",
    "\n",
    "    // Append new row\n",
    "    newRows.forEach(function (newRow) {\n",
    "      tableBody.appendChild(newRow);\n",
    "    });\n",
    "  };\n",
    "\n",
    "  [].forEach.call(headers, function (header, index) {\n",
    "    header.addEventListener('click', function () {\n",
    "      sortColumn(index);\n",
    "    });\n",
    "  });\n",
    "});\n",
    "</script>\n",
    "\n",
    "<script>\n",
    "const linkify = t => {\n",
    "  const isValidHttpUrl = s => {\n",
    "    let u\n",
    "    try {u = new URL(s)}\n",
    "    catch (_) {return false}\n",
    "    return u.protocol.startsWith(\"http\")\n",
    "  }\n",
    "  const m = t.match(/(?<=\\s|^)[a-zA-Z0-9-:/]+\\.[a-zA-Z0-9-].+?(?=[.,;:?!-]?(?:\\s|$))/g)\n",
    "  if (!m) return t\n",
    "  const a = []\n",
    "  m.forEach(x => {\n",
    "    const [t1, ...t2] = t.split(x)\n",
    "    a.push(t1)\n",
    "    t = t2.join(x)\n",
    "    //const y = (!(x.match(/:\\/\\//)) ? 'https://' : '') + x\n",
    "    const y = x\n",
    "    if (isNaN(x) && isValidHttpUrl(y)) \n",
    "      //a.push('<a href=\"' + y + '\" target=\"_blank\">' + y.split('/')[2] + '</a>')\n",
    "      a.push('<a href=\"' + y + '\" target=\"_blank\">' + y + '</a>')\n",
    "    else\n",
    "      a.push(x)\n",
    "  })\n",
    "  a.push(t)\n",
    "  return a.join('')\n",
    "}\n",
    "\n",
    "window.onload = function(){\n",
    "  document.querySelectorAll(\"td\").forEach(o => {\n",
    "    o.innerHTML = linkify(o.innerHTML)\n",
    "  })\n",
    "};\n",
    "\n",
    "/*\n",
    "//window.addEventListener(\"load\", function(){\n",
    "window.addEventListener(\"DOMContentLoaded\", function(){\n",
    "  document.querySelectorAll(\"td\").forEach((i) => {\n",
    "    console.log(i);\n",
    "  });\n",
    "});\n",
    "*/\n",
    "\n",
    "</script>\n",
    "\n",
    "<style>\n",
    "@font-face {\n",
    "  font-family: satoshi;\n",
    "  src: url(satoshi-regular.woff2);\n",
    "}\n",
    "@font-face {\n",
    "  font-family: DroidSansMono;\n",
    "  src: url(droid-sans-mono.woff2);\n",
    "}\n",
    "@font-face {\n",
    "  font-family: 'Roboto Mono';\n",
    "  src: url(RobotoMono-VariableFont_wght.ttf);\n",
    "}\n",
    "body,\n",
    ".table {\n",
    "  font-family: Roboto Mono, monospace;\n",
    "  font-weight: 100;\n",
    "  border-collapse: collapse;\n",
    "}\n",
    ".table__header {\n",
    "  background-color: transparent;\n",
    "  border: none;\n",
    "  cursor: pointer;\n",
    "}\n",
    ".table,\n",
    ".table th,\n",
    ".table td {\n",
    "  border: 1px solid #ccc;\n",
    "  font-size: 1.0em;\n",
    "}\n",
    ".table th,\n",
    ".table td {\n",
    "  padding: 0.5rem;\n",
    "}\n",
    ".table th {\n",
    "  cursor: pointer;\n",
    "  text-decoration: underline;\n",
    "}\n",
    "table{\n",
    "  counter-reset: rowNumber;\n",
    "}\n",
    "table tr > td:first-child{\n",
    "  counter-increment: rowNumber;\n",
    "}\n",
    "table tr td:first-child::before {\n",
    "  content: counter(rowNumber);\n",
    "  min-width: 1em;\n",
    "  margin-right: 0.5em;\n",
    "}\n",
    "a:link {\n",
    "  color: inherit;\n",
    "  text-decoration: none;\n",
    "}\n",
    "body {\n",
    "  color: #eee;\n",
    "  background: #121212;\n",
    "}\n",
    "body a {\n",
    "  color: #809fff;\n",
    "}\n",
    "</style>\n",
    "</head>\n",
    "\n",
    "<body><h1>Stinky Results</h1><div><span>Total artifacts: <b>{INSERT_LENGTH}</b></span><br /></div><br />\n",
    "\"\"\"\n",
    "s = s.replace('{INSERT_LENGTH}', str(len(df)))\n",
    "#display(HTML(s + df.to_html(columns=['mime-type', 'path', 'hash'], justify=\"center\", classes=['table_stuff'], table_id='info-table', render_links=True)))\n",
    "with open('results.html', 'w') as f:\n",
    "    f.write(s + df.to_html(columns=['mime-type', 'path', 'hash'], index=False, justify=\"center\", classes=['table', 'table-bordered', 'table-hover'], table_id='info-table', render_links=True).replace('<tr>', '<tr><td></td>').replace('<th>', '<th></th><th>', 1) + '</body>\\n</html>')"
   ]
  },
  {
   "cell_type": "markdown",
   "id": "12217442-9106-4fa9-bfa2-d667d380e1f9",
   "metadata": {},
   "source": [
    "#### Interesting snippets"
   ]
  },
  {
   "cell_type": "code",
   "execution_count": null,
   "id": "d777933e-4c1a-4e41-87f0-904975b739d2",
   "metadata": {},
   "outputs": [],
   "source": [
    "from IPython.display import IFrame\n",
    "\n",
    "IFrame(src='./nice.html', width=700, height=600)"
   ]
  },
  {
   "cell_type": "code",
   "execution_count": null,
   "id": "b812c669-6ab3-41c5-b9c0-dca569eaa12a",
   "metadata": {},
   "outputs": [],
   "source": [
    "from IPython.display import display, HTML\n",
    "\n",
    "display(HTML('<h1>Hello, world!</h1>'))\n",
    "\n",
    "js = \"<script>alert('Hello World!');</script>\"\n",
    "display(HTML(js))"
   ]
  },
  {
   "cell_type": "code",
   "execution_count": null,
   "id": "d4c4ffa9-d14e-44b6-8094-6151522f4b25",
   "metadata": {},
   "outputs": [],
   "source": []
  },
  {
   "cell_type": "code",
   "execution_count": null,
   "id": "b268c456-95ad-4400-96bb-c8aa97a49fa9",
   "metadata": {},
   "outputs": [],
   "source": []
  },
  {
   "cell_type": "code",
   "execution_count": null,
   "id": "f0053947-c280-4b7b-88dd-5f89d654dfac",
   "metadata": {},
   "outputs": [],
   "source": []
  },
  {
   "cell_type": "markdown",
   "id": "544d5c8a-c010-490b-ab29-f4d686eb3dcf",
   "metadata": {},
   "source": [
    "### Get redirections from proxy data"
   ]
  },
  {
   "cell_type": "code",
   "execution_count": null,
   "id": "d0041f10-a9de-4159-83a3-be915b87f7e7",
   "metadata": {},
   "outputs": [],
   "source": [
    "import json\n",
    "with open('proxy.json', 'rb') as f:\n",
    "    p = json.load(f)\n",
    "print(f'Total number of files = \"{len(p)}\"')\n",
    "\n",
    "#  Interrogate data format\n",
    "next(iter(p.values()))"
   ]
  },
  {
   "cell_type": "markdown",
   "id": "c0255638-6a8e-4953-bbb9-6e9b0ac3888b",
   "metadata": {},
   "source": [
    "#### Create dictionary of source `URL`'s mapped to `Location` `HTTP response header` when a `redirect` `HTTP response status code` is found"
   ]
  },
  {
   "cell_type": "code",
   "execution_count": null,
   "id": "973efb79-4d76-40e8-b225-3ba42ae2e491",
   "metadata": {},
   "outputs": [],
   "source": [
    "#redirect = { v.get('Url'): v.get('ResponseHeader').get('Location')[0] for v in p.values() if v.get('RequestMethod') != 'HEAD' and 299 < v.get('ResponseStatusCode') < 400 }\n",
    "redirect = dict()\n",
    "for k, v in p.items():\n",
    "    #print(f'{v}')\n",
    "    if 299 < v.get('ResponseStatusCode') < 400 and v.get('RequestMethod') != 'HEAD':\n",
    "        redirect.update({v.get('Url'): v.get('ResponseHeader').get('Location')[0]})\n",
    "print(f'Length of dictionary = \"{len(redirect)}\"')\n",
    "#list(redirect.items())[0]\n",
    "{k: redirect[k] for k in list(redirect)[:2]}"
   ]
  },
  {
   "cell_type": "code",
   "execution_count": null,
   "id": "3112c6f1-89c1-43bf-9f89-a86fa8336c08",
   "metadata": {},
   "outputs": [],
   "source": [
    "def get_redirect_flow(url_string):\n",
    "    redirect_flow = []\n",
    "    for src_url, redirect_url in redirect.items():\n",
    "        if url_string == redirect_url:\n",
    "            #print(f'{url_string} was a redirection from {src_url}')\n",
    "            redirect_flow.append(src_url)\n",
    "            #return src_url + get_redirect_flow(src_url)\n",
    "            #[] if get_redirect_flow(src_url) is None else get_redirect_flow(src_url)\n",
    "            #r = get_redirect_flow(src_url)\n",
    "            #if r:\n",
    "            #    redirect_flow.extend(r)\n",
    "            #return redirect_flow\n",
    "            redirect_flow.extend(get_redirect_flow(src_url))\n",
    "    return redirect_flow\n",
    "\n",
    "result = get_redirect_flow('https://cpan.metacpan.org/authors/id/M/MI/MIYAGAWA/App-cpanminus-1.7042.tar.gz')\n",
    "result[::-1]  #  result.reverse()\n",
    "#  re-redirect\n",
    "#redirect[redirect['http://search.cpan.org/CPAN/authors/id/M/MI/MIYAGAWA/App-cpanminus-1.7042.tar.gz']]"
   ]
  },
  {
   "cell_type": "code",
   "execution_count": null,
   "id": "10d9a3b6-c0be-4a84-b86e-0a28e60f7875",
   "metadata": {},
   "outputs": [],
   "source": [
    "for v in p.values():\n",
    "    if v.get('RequestMethod') != 'HEAD':\n",
    "        r = get_redirect_flow(v.get('Url'))\n",
    "        if len(r) >= 2 :\n",
    "            print(f'{v.get(\"Url\")} redirect flow {r}')\n",
    "    "
   ]
  },
  {
   "cell_type": "code",
   "execution_count": null,
   "id": "8f5fff74-cccf-4f5d-83f6-f081a93a002f",
   "metadata": {},
   "outputs": [],
   "source": []
  }
 ],
 "metadata": {
  "kernelspec": {
   "display_name": "Python 3 (ipykernel)",
   "language": "python",
   "name": "python3"
  },
  "language_info": {
   "codemirror_mode": {
    "name": "ipython",
    "version": 3
   },
   "file_extension": ".py",
   "mimetype": "text/x-python",
   "name": "python",
   "nbconvert_exporter": "python",
   "pygments_lexer": "ipython3",
   "version": "3.11.7"
  }
 },
 "nbformat": 4,
 "nbformat_minor": 5
}
