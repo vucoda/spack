{
 "cells": [
  {
   "cell_type": "code",
   "execution_count": null,
   "id": "8e3bcdf0-260b-48d2-8b69-ae8b204da61e",
   "metadata": {},
   "outputs": [],
   "source": [
    "import os\n",
    "print(os.getcwd())"
   ]
  },
  {
   "cell_type": "code",
   "execution_count": null,
   "id": "ed0be721-6c74-462b-a562-046c7484d864",
   "metadata": {},
   "outputs": [],
   "source": [
    "import json\n",
    "with open('results.json', 'rb') as f:\n",
    "    d = json.load(f)\n",
    "print(f'Total number of files is {len(d)}')\n",
    "d"
   ]
  },
  {
   "cell_type": "code",
   "execution_count": null,
   "id": "fc2ef15f-1366-4e66-bf32-11c209d67c6d",
   "metadata": {},
   "outputs": [],
   "source": [
    "binary_files = [ i for i in d if i.get('mime-encoding') == 'binary' ]\n",
    "print(f'{len(binary_files)}')\n",
    "binary_files"
   ]
  },
  {
   "cell_type": "code",
   "execution_count": null,
   "id": "00db8435-7542-4e9c-a4db-8e57ea3081c4",
   "metadata": {},
   "outputs": [],
   "source": [
    "non_binary_files = [ i for i in d if i.get('mime-encoding') != 'binary' ]\n",
    "print(f'{len(non_binary_files)}')\n",
    "non_binary_files"
   ]
  },
  {
   "cell_type": "code",
   "execution_count": null,
   "id": "9154a0d4-afdb-4ab6-b98d-e52627ad07e5",
   "metadata": {},
   "outputs": [],
   "source": [
    "if len(d) == len(binary_files) + len(non_binary_files):\n",
    "    print(f'All files accounted for')"
   ]
  },
  {
   "cell_type": "code",
   "execution_count": null,
   "id": "9028a627-749b-4c5f-ba2b-f0d0f104666c",
   "metadata": {
    "scrolled": true
   },
   "outputs": [],
   "source": [
    "mime_types = []\n",
    "for i in d:\n",
    "    if i.get('mime-type') not in mime_types:\n",
    "        mime_types.append(i.get('mime-type'))\n",
    "print(f'{len(mime_types)}')\n",
    "mime_types"
   ]
  },
  {
   "cell_type": "code",
   "execution_count": null,
   "id": "1a2d4eac-d0e6-45d1-bed3-82dc41d6065c",
   "metadata": {},
   "outputs": [],
   "source": [
    "mime_types_count = dict()  #  {}\n",
    "for i in d:\n",
    "    #print(f'{type(i.get(\"mime-type\"))}')\n",
    "    #mime_types_count.update({i.get('mime-type'): [mime_types_count.get(i.get('mime-type'),i)]})\n",
    "    #mime_types_count.update({'a': [mime_types_count.get(i.get('mime-type'), i)]})\n",
    "    print(f'{mime_types_count.get(i.get(\"mime-type\"), list())}')\n",
    "    mime_types_count.update({i.get('mime-type'): mime_types_count.get(i.get('mime-type'), list()).append(i)})\n",
    "mime_types_count"
   ]
  },
  {
   "cell_type": "code",
   "execution_count": null,
   "id": "22975e0f-3e1e-4a97-85f5-0d57ff0e8dd6",
   "metadata": {},
   "outputs": [],
   "source": [
    "test = {'a': list[1,2,3]}\n",
    "test"
   ]
  },
  {
   "cell_type": "code",
   "execution_count": null,
   "id": "12b6e3b2-821d-42de-b662-a77ebc9632b6",
   "metadata": {},
   "outputs": [],
   "source": [
    "unique_mime_encodings = (i.get('mime-encoding') for i in d)\n",
    "unique_mime_encodings"
   ]
  },
  {
   "cell_type": "code",
   "execution_count": null,
   "id": "57785c42-5ab0-4f4c-a075-9a83611e99f4",
   "metadata": {
    "scrolled": true
   },
   "outputs": [],
   "source": [
    "test = [i for i in d if i.get('mime-type') == ['inode/symlink', 'binary'] ]\n",
    "print(f'{len(test)}')\n",
    "test = [i for i in d if i.get('mime-type') == ['inode/symlink'] ]\n",
    "print(f'{len(test)}')\n",
    "test"
   ]
  },
  {
   "cell_type": "code",
   "execution_count": null,
   "id": "1b6a9ecd-67ac-4e07-ac98-b8889948ca81",
   "metadata": {},
   "outputs": [],
   "source": []
  }
 ],
 "metadata": {
  "kernelspec": {
   "display_name": "Python 3 (ipykernel)",
   "language": "python",
   "name": "python3"
  },
  "language_info": {
   "codemirror_mode": {
    "name": "ipython",
    "version": 3
   },
   "file_extension": ".py",
   "mimetype": "text/x-python",
   "name": "python",
   "nbconvert_exporter": "python",
   "pygments_lexer": "ipython3",
   "version": "3.11.7"
  }
 },
 "nbformat": 4,
 "nbformat_minor": 5
}
